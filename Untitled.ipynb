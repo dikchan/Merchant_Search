{
 "cells": [
  {
   "cell_type": "markdown",
   "metadata": {},
   "source": [
    "# Text Analysis - tokenize article and sentence\n",
    "\n",
    "Position of sentences\n",
    "\n",
    "### CC: conjunction, coordinating\n",
    "\n",
    "& 'n and both but either et for less minus neither nor or plus so\n",
    "therefore times v. versus vs. whether yet\n",
    "CD: numeral, cardinal\n",
    "\n",
    "mid-1890 nine-thirty forty-two one-tenth ten million 0.5 one forty-\n",
    "seven 1987 twenty '79 zero two 78-degrees eighty-four IX '60s .025\n",
    "fifteen 271,124 dozen quintillion DM2,000 ...\n",
    "### DT: determiner\n",
    "\n",
    "all an another any both del each either every half la many much nary\n",
    "neither no some such that the them these this those\n",
    "### EX: existential there\n",
    "\n",
    "there\n",
    "### IN: preposition or conjunction, subordinating\n",
    "\n",
    "astride among uppon whether out inside pro despite on by throughout\n",
    "below within for towards near behind atop around if like until below\n",
    "next into if beside ...\n",
    "### JJ: adjective or numeral, ordinal\n",
    "\n",
    "third ill-mannered pre-war regrettable oiled calamitous first separable\n",
    "ectoplasmic battery-powered participatory fourth still-to-be-named\n",
    "multilingual multi-disciplinary ...\n",
    "### JJR: adjective, comparative\n",
    "\n",
    "bleaker braver breezier briefer brighter brisker broader bumper busier\n",
    "calmer cheaper choosier cleaner clearer closer colder commoner costlier\n",
    "cozier creamier crunchier cuter ...\n",
    "### JJS: adjective, superlative\n",
    "\n",
    "calmest cheapest choicest classiest cleanest clearest closest commonest\n",
    "corniest costliest crassest creepiest crudest cutest darkest deadliest\n",
    "dearest deepest densest dinkiest ...\n",
    "### LS: list item marker\n",
    "\n",
    "A A. B B. C C. D E F First G H I J K One SP-44001 SP-44002 SP-44005\n",
    "SP-44007 Second Third Three Two * a b c d first five four one six three\n",
    "two\n",
    "### MD: modal auxiliary\n",
    "\n",
    "can cannot could couldn't dare may might must need ought shall should\n",
    "shouldn't will would\n",
    "NN: noun, common, singular or mass\n",
    "\n",
    "common-carrier cabbage knuckle-duster Casino afghan shed thermostat\n",
    "investment slide humour falloff slick wind hyena override subhumanity\n",
    "machinist ...\n",
    "### NNP: noun, proper, singular\n",
    "\n",
    "Motown Venneboerger Czestochwa Ranzer Conchita Trumplane Christos\n",
    "Oceanside Escobar Kreisler Sawyer Cougar Yvette Ervin ODI Darryl CTCA\n",
    "Shannon A.K.C. Meltex Liverpool ...\n",
    "### NNS: noun, common, plural\n",
    "\n",
    "undergraduates scotches bric-a-brac products bodyguards facets coasts\n",
    "divestitures storehouses designs clubs fragrances averages\n",
    "subjectivists apprehensions muses factory-jobs ...\n",
    "PDT: pre-determiner\n",
    "\n",
    "all both half many quite such sure this\n",
    "POS: genitive marker\n",
    "\n",
    "' 's\n",
    "### PRP: pronoun, personal\n",
    "\n",
    "hers herself him himself hisself it itself me myself one oneself ours\n",
    "ourselves ownself self she thee theirs them themselves they thou thy us\n",
    "### PRP$: pronoun, possessive\n",
    "\n",
    "her his mine my our ours their thy your\n",
    "\n"
   ]
  },
  {
   "cell_type": "markdown",
   "metadata": {},
   "source": [
    "### RB: adverb\n",
    "\n",
    "occasionally unabatingly maddeningly adventurously professedly\n",
    "stirringly prominently technologically magisterially predominately\n",
    "swiftly fiscally pitilessly ...\n",
    "RBR: adverb, comparative\n",
    "\n",
    "further gloomier grander graver greater grimmer harder harsher\n",
    "healthier heavier higher however larger later leaner lengthier less-\n",
    "perfectly lesser lonelier longer louder lower more ...\n",
    "RBS: adverb, superlative\n",
    "\n",
    "best biggest bluntest earliest farthest first furthest hardest\n",
    "heartiest highest largest least less most nearest second tightest worst\n",
    "### RP: particle\n",
    "\n",
    "aboard about across along apart around aside at away back before behind\n",
    "by crop down ever fast for forth from go high i.e. in into just later\n",
    "low more off on open out over per pie raising start teeth that through\n",
    "under unto up up-pp upon whole with you\n",
    "## TO: \"to\" as preposition or infinitive marker\n",
    "\n",
    "to\n",
    "#### UH: interjection\n",
    "\n",
    "Goodbye Goody Gosh Wow Jeepers Jee-sus Hubba Hey Kee-reist Oops amen\n",
    "huh howdy uh dammit whammo shucks heck anyways whodunnit honey golly\n",
    "man baby diddle hush sonuvabitch ...\n",
    "#### VB: verb, base form\n",
    "\n",
    "ask assemble assess assign assume atone attention avoid bake balkanize\n",
    "bank begin behold believe bend benefit bevel beware bless boil bomb\n",
    "boost brace break bring broil brush build ...\n",
    "VBD: verb, past tense\n",
    "\n",
    "dipped pleaded swiped regummed soaked tidied convened halted registered\n",
    "cushioned exacted snubbed strode aimed adopted belied figgered\n",
    "speculated wore appreciated contemplated ...\n",
    "#### VBG: verb, present participle or gerund\n",
    "\n",
    "telegraphing stirring focusing angering judging stalling lactating\n",
    "hankerin' alleging veering capping approaching traveling besieging\n",
    "encrypting interrupting erasing wincing ...\n",
    "VBN: verb, past participle\n",
    "\n",
    "multihulled dilapidated aerosolized chaired languished panelized used\n",
    "experimented flourished imitated reunifed factored condensed sheared\n",
    "unsettled primed dubbed desired ...\n",
    "#### VBP: verb, present tense, not 3rd person singular\n",
    "\n",
    "predominate wrap resort sue twist spill cure lengthen brush terminate\n",
    "appear tend stray glisten obtain comprise detest tease attract\n",
    "emphasize mold postpone sever return wag ...\n",
    "VBZ: verb, present tense, 3rd person singular\n",
    "\n",
    "bases reconstructs marks mixes displeases seals carps weaves snatches\n",
    "slumps stretches authorizes smolders pictures emerges stockpiles\n",
    "seduces fizzes uses bolsters slaps speaks pleads ...\n",
    "#### WDT: WH-determiner\n",
    "\n",
    "that what whatever which whichever\n",
    "#### WP: WH-pronoun\n",
    "\n",
    "that what whatever whatsoever which who whom whosoever\n",
    "#### WRB: Wh-adverb\n",
    "\n",
    "how however whence whenever where whereby whereever wherein whereof why\n",
    "\n"
   ]
  },
  {
   "cell_type": "code",
   "execution_count": 1,
   "metadata": {
    "collapsed": true
   },
   "outputs": [],
   "source": [
    "import nltk"
   ]
  },
  {
   "cell_type": "code",
   "execution_count": 6,
   "metadata": {},
   "outputs": [
    {
     "data": {
      "text/plain": [
       "'noun, common, singular or mass'"
      ]
     },
     "execution_count": 6,
     "metadata": {},
     "output_type": "execute_result"
    }
   ],
   "source": [
    "\n",
    "# know what's the 3 digits words means \n",
    "from nltk.data import load\n",
    "tagdict = load('help/tagsets/upenn_tagset.pickle')\n",
    "tagdict['NN'][0]"
   ]
  },
  {
   "cell_type": "code",
   "execution_count": 8,
   "metadata": {},
   "outputs": [
    {
     "name": "stdout",
     "output_type": "stream",
     "text": [
      "[[('He', 'PRP'), ('is', 'VBZ'), ('a', 'DT'), ('fat', 'JJ'), ('guy', 'NN')], [('he', 'PRP'), ('is', 'VBZ'), ('a', 'DT'), ('man', 'NN')]]\n"
     ]
    }
   ],
   "source": [
    "sentences = ['He is a fat guy', ' he is a man']\n",
    "\n",
    "token_sentences = [nltk.word_tokenize(sent) for sent in sentences]\n",
    "\n",
    "pos_sentences = [nltk.pos_tag(sent) for sent in token_sentences] \n",
    "\n",
    "# Create the named entity chunks: chunked_sentences\n",
    "chunked_sentences = nltk.ne_chunk_sents(pos_sentences, binary = True)\n",
    "\n",
    "print (pos_sentences)\n",
    "#print (chunked_sentences)\n",
    "\n",
    "#print (chunked_sentences)"
   ]
  },
  {
   "cell_type": "code",
   "execution_count": 11,
   "metadata": {},
   "outputs": [
    {
     "ename": "TypeError",
     "evalue": "'LazyModule' object is not callable",
     "output_type": "error",
     "traceback": [
      "\u001b[0;31m---------------------------------------------------------------------------\u001b[0m",
      "\u001b[0;31mTypeError\u001b[0m                                 Traceback (most recent call last)",
      "\u001b[0;32m<ipython-input-11-1834bed57b10>\u001b[0m in \u001b[0;36m<module>\u001b[0;34m()\u001b[0m\n\u001b[1;32m      1\u001b[0m \u001b[0msentences\u001b[0m \u001b[0;34m=\u001b[0m \u001b[0;34m[\u001b[0m\u001b[0;34m'He is a fat guy'\u001b[0m\u001b[0;34m,\u001b[0m \u001b[0;34m' he is a man'\u001b[0m\u001b[0;34m]\u001b[0m\u001b[0;34m\u001b[0m\u001b[0m\n\u001b[0;32m----> 2\u001b[0;31m \u001b[0mnltk_sent\u001b[0m \u001b[0;34m=\u001b[0m \u001b[0mnltk\u001b[0m\u001b[0;34m.\u001b[0m\u001b[0mcorpus\u001b[0m\u001b[0;34m(\u001b[0m\u001b[0msentences\u001b[0m\u001b[0;34m)\u001b[0m\u001b[0;34m\u001b[0m\u001b[0m\n\u001b[0m\u001b[1;32m      3\u001b[0m \u001b[0mnltk\u001b[0m\u001b[0;34m.\u001b[0m\u001b[0mcorpus\u001b[0m\u001b[0;34m.\u001b[0m\u001b[0mnltk_sent\u001b[0m\u001b[0;34m.\u001b[0m\u001b[0mtagged_sents\u001b[0m\u001b[0;34m(\u001b[0m\u001b[0;34m)\u001b[0m\u001b[0;34m\u001b[0m\u001b[0m\n",
      "\u001b[0;31mTypeError\u001b[0m: 'LazyModule' object is not callable"
     ]
    }
   ],
   "source": [
    "sentences = ['He is a fat guy', ' he is a man']\n",
    "nltk_sent = nltk.corpus(sentences)\n",
    "nltk.corpus.nltk_sent.tagged_sents()"
   ]
  },
  {
   "cell_type": "code",
   "execution_count": null,
   "metadata": {
    "collapsed": true
   },
   "outputs": [],
   "source": [
    "# Tokenize the article into sentences: sentences\n",
    "sentences = nltk.sent_tokenize(article)\n",
    "\n",
    "# Tokenize each sentence into words: token_sentences\n",
    "token_sentences = [nltk.word_tokenize(sent) for sent in sentences]\n",
    "\n",
    "# Tag each tokenized sentence into parts of speech: pos_sentences\n",
    "pos_sentences = [nltk.pos_tag(sent) for sent in token_sentences] \n",
    "\n",
    "# Create the named entity chunks: chunked_sentences\n",
    "chunked_sentences = nltk.ne_chunk_sents(pos_sentences, binary = True)\n",
    "\n",
    "# Test for stems of the tree with 'NE' tags\n",
    "for sent in chunked_sentences:\n",
    "    for chunk in sent:\n",
    "        if hasattr(chunk, \"label\") and chunk.label() == \"NE\":\n",
    "            print(chunk)\n"
   ]
  }
 ],
 "metadata": {
  "kernelspec": {
   "display_name": "Python 3",
   "language": "python",
   "name": "python3"
  },
  "language_info": {
   "codemirror_mode": {
    "name": "ipython",
    "version": 3
   },
   "file_extension": ".py",
   "mimetype": "text/x-python",
   "name": "python",
   "nbconvert_exporter": "python",
   "pygments_lexer": "ipython3",
   "version": "3.6.2"
  }
 },
 "nbformat": 4,
 "nbformat_minor": 2
}
