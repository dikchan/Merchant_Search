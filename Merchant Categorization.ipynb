{
 "cells": [
  {
   "cell_type": "markdown",
   "metadata": {},
   "source": [
    "### Get a list of credit card merchants, search in google & scrap the descrition"
   ]
  },
  {
   "cell_type": "code",
   "execution_count": 4,
   "metadata": {
    "collapsed": true
   },
   "outputs": [],
   "source": [
    "import requests\n",
    "from bs4 import BeautifulSoup\n",
    "import time\n",
    "from pathlib import Path\n",
    "import os\n",
    "\n",
    "USER_AGENT = {'User-Agent':'Mozilla/5.0 (Windows NT 10.0; Win64; x64) AppleWebKit/537.36 (KHTML, like Gecko) Chrome/61.0.3163.100 Safari/537.36'}\n",
    "\n",
    "\n",
    "def fetch_results(search_term, number_results, language_code):\n",
    "    assert isinstance(search_term, str), 'Search term must be a string'\n",
    "    assert isinstance(number_results, int), 'Number of results must be an integer'\n",
    "    escaped_search_term = search_term.replace(' ', '+')\n",
    "\n",
    "    google_url = 'https://www.google.com/search?q={}&num={}&hl={}'.format(escaped_search_term, number_results, language_code)\n",
    "    response = requests.get(google_url, headers=USER_AGENT)\n",
    "    response.raise_for_status()\n",
    "\n",
    "    return search_term, response.text\n",
    "\n",
    "\n",
    "def parse_results(html, keyword):\n",
    "    soup = BeautifulSoup(html, 'html.parser')\n",
    "\n",
    "    found_results = []\n",
    "    rank = 1\n",
    "    result_block = soup.find_all('div', attrs={'class': 'g'})\n",
    "    for result in result_block:\n",
    "\n",
    "        link = result.find('a', href=True)\n",
    "        title = result.find('h3', attrs={'class': 'r'})\n",
    "        description = result.find('span', attrs={'class': 'st'})\n",
    "        if link and title:\n",
    "            link = link['href']\n",
    "            title = title.get_text()\n",
    "            description = description.get_text()\n",
    "            if link != '#':\n",
    "                found_results.append({'keyword': keyword, 'rank': rank, 'title': title, 'description': description})\n",
    "                rank += 1\n",
    "    return found_results\n",
    "\n",
    "import json\n",
    "\n",
    "def export_file(filename, list_name):\n",
    "    with open(filename, 'w') as f:\n",
    "        for search in list_name:\n",
    "            f.write(json.dumps(search[\"description\"]))\n",
    "\n",
    "def scrape_google(search_term, number_results, language_code):\n",
    "    try:\n",
    "        keyword, html = fetch_results(search_term, number_results, language_code)\n",
    "        results = parse_results(html, keyword)\n",
    "        file_name = search_term + '.txt'\n",
    "        Full_path = os.path.join(\"cc_desc\", file_name)\n",
    "        \n",
    "        with open(Full_path, 'w', encoding='utf-8') as f:\n",
    "                for search in results:\n",
    "                    f.write(json.dumps(search[\"description\"], ensure_ascii=False))\n",
    "        return results\n",
    "    except AssertionError:\n",
    "        raise Exception(\"Incorrect arguments parsed to function\")\n",
    "    except requests.HTTPError:\n",
    "        raise Exception(\"You appear to have been blocked by Google\")\n",
    "    except requests.RequestException:\n",
    "        raise Exception(\"Appears to be an issue with your connection\")\n",
    "\n",
    "\n",
    "#if __name__ == '__main__':\n",
    "#    keywords = ['edmund martin', 'python', 'google scraping']\n",
    "#    data = []\n",
    "#    for keyword in keywords:\n",
    "#        try:\n",
    "#            results = scrape_google(keyword, 100, \"en\")\n",
    "#            for result in results:\n",
    "#                data.append(result)\n",
    "#        except Exception as e:\n",
    "#            print(e)\n",
    "#        finally:\n",
    "#            time.sleep(10)\n",
    "    #print(data)"
   ]
  },
  {
   "cell_type": "code",
   "execution_count": null,
   "metadata": {
    "scrolled": true
   },
   "outputs": [],
   "source": [
    "Pacific_place = scrape_google(\"Starbucks\",5,\"en\")"
   ]
  },
  {
   "cell_type": "code",
   "execution_count": 5,
   "metadata": {
    "collapsed": true
   },
   "outputs": [],
   "source": [
    "CDC_HK = scrape_google(\"Cafe de carol Hong Kong openrice\",5,\"en\")"
   ]
  },
  {
   "cell_type": "code",
   "execution_count": 256,
   "metadata": {
    "collapsed": true
   },
   "outputs": [],
   "source": [
    "TW_HK = scrape_google(\"Tsui Wah Hong Kong Openrice\",5,\"en\")"
   ]
  },
  {
   "cell_type": "code",
   "execution_count": 257,
   "metadata": {
    "scrolled": true
   },
   "outputs": [
    {
     "name": "stdout",
     "output_type": "stream",
     "text": [
      "[{'keyword': 'Tsui Wah Hong Kong Openrice', 'rank': 1, 'title': 'Tsui Wah Restaurant - Hong Kong Style Meatless Menu ... - Openrice', 'description': \"翠華餐廳Tsui Wah Restaurant's Address, Telephone Number, Ratings, Reviews, Photos and Menu, located at G-2/F, 15-19 Wellington Street Central. Signature dishes include 奶茶, 海南雞飯, 凍檸茶, 鹿儿岛猪软骨鲜虾菠菜饺米线, . 連鎖式經營的港式茶餐廳，以「魚蛋稱霸、咖喱稱王」做口號。\"}, {'keyword': 'Tsui Wah Hong Kong Openrice', 'rank': 2, 'title': 'Tsui Wah Restaurant - Hong Kong Style Meatless Menu ... - Openrice', 'description': \"翠華餐廳Tsui Wah Restaurant's Address, Telephone Number, Ratings, Reviews, Photos and Menu, located at G/F, 84-86 Des Voeux Road Central Central. Signature dishes include 熱奶茶, . 連鎖式經營的港式茶餐廳，以「魚蛋稱霸、咖喱稱王」做口號。\"}, {'keyword': 'Tsui Wah Hong Kong Openrice', 'rank': 3, 'title': \"Tsui Wah Restaurant's Menu - Hong Kong Style Meatless ... - Openrice\", 'description': \"翠華餐廳Tsui Wah Restaurant's Menu, located at G-2/F, 15-19 Wellington Street Central.\"}, {'keyword': 'Tsui Wah Hong Kong Openrice', 'rank': 4, 'title': 'Tsui Wah Restaurant - Hong Kong Style Meatless Menu ... - Openrice', 'description': \"翠華餐廳Tsui Wah Restaurant's Address, Telephone Number, Ratings, Reviews, Photos and Menu, located at G/F, 2 Carnarvon Road Tsim Sha Tsui. Signature dishes include 至潮魚蛋片頭河, 海南雞飯, . 連鎖式經營的港式茶餐廳，以「魚蛋稱霸、咖喱稱王」做口號。\"}, {'keyword': 'Tsui Wah Hong Kong Openrice', 'rank': 5, 'title': 'Tsui Wah Restaurant - Hong Kong Style Meatless Menu ... - Openrice', 'description': \"翠華餐廳Tsui Wah Restaurant's Address, Telephone Number, Ratings, Reviews, Photos and Menu, located at Shop 101, 1/F, Fu Tung Plaza, Fu Tung Estate Tung Chung. 連鎖式經營的港式茶餐廳，以「魚蛋稱霸、咖喱稱王」做口號。\"}]\n"
     ]
    }
   ],
   "source": [
    "print(TW_HK)"
   ]
  },
  {
   "cell_type": "code",
   "execution_count": 259,
   "metadata": {},
   "outputs": [
    {
     "name": "stdout",
     "output_type": "stream",
     "text": [
      "[{'keyword': 'Cafe de carol Hong Kong openrice', 'rank': 1, 'title': 'Hong Kong Restaurant Search : Cafe De Coral | OpenRice Hong Kong', 'description': 'Find Cafe De Coral, Food & Dining places in Hong Kong at OpenRice Hong Kong.'}, {'keyword': 'Cafe de carol Hong Kong openrice', 'rank': 2, 'title': 'Café de Coral - Hong Kong Style Meatless Menu Fast Food ... - Openrice', 'description': \"大家樂Café de Coral's Address, Telephone Number, Ratings, Reviews, Photos and Menu, located at Shop40-50, 2/F, Sun Tuen Mun Shopping Centre, 55-65 Lung Mun Road Tuen Mun.\"}, {'keyword': 'Cafe de carol Hong Kong openrice', 'rank': 3, 'title': 'Café de Coral - Hong Kong Style Meatless Menu Fast Food ... - Openrice', 'description': \"大家樂Café de Coral's Address, Telephone Number, Ratings, Reviews, Photos and Menu, located at UG-1/F, Chinachem Tower, 34-37 Connaught Road Central.\"}, {'keyword': 'Cafe de carol Hong Kong openrice', 'rank': 4, 'title': 'Café de Coral - Hong Kong Style Meatless Menu Fast Food ... - Openrice', 'description': \"大家樂Café de Coral's Address, Telephone Number, Ratings, Reviews, Photos and Menu, located at Shop 23, L2, Festival Walk, 80 Tat Chee Avenue Kowloon Tong. 大家樂由早到晚均提供豐富美食選擇，價格相宜，糯米雞、一哥焗豬扒飯與香滑奶茶是必食之選。\"}, {'keyword': 'Cafe de carol Hong Kong openrice', 'rank': 5, 'title': 'Café de Coral - Hong Kong Style Meatless Menu Fast Food ... - Openrice', 'description': \"大家樂Café de Coral's Address, Telephone Number, Ratings, Reviews, Photos and Menu, located at B/F, Argyle Centre Phase 1, 688 Nathan Road Mong Kok.\"}]\n"
     ]
    }
   ],
   "source": [
    "print(CDC_HK)"
   ]
  },
  {
   "cell_type": "code",
   "execution_count": 369,
   "metadata": {
    "collapsed": true
   },
   "outputs": [],
   "source": [
    "Caltex_HK = scrape_google(\"Caltax Hong Kong\",5,\"en\")"
   ]
  },
  {
   "cell_type": "code",
   "execution_count": 370,
   "metadata": {},
   "outputs": [
    {
     "name": "stdout",
     "output_type": "stream",
     "text": [
      "[{'keyword': 'Caltax Hong Kong', 'rank': 1, 'title': 'Find Caltex Petrol Service Stations in Hong Kong - | Caltex Hong Kong', 'description': 'Use this interactive feature to locate Caltex stations nearest to you along with the various amenities, utilities each has to offer; and plan your way goin.'}, {'keyword': 'Caltax Hong Kong', 'rank': 2, 'title': 'Caltex in Hong Kong', 'description': 'As a Global Energy Company we look to offer a host of quality products & services in Hong Kong to make your journey better.'}, {'keyword': 'Caltax Hong Kong', 'rank': 3, 'title': 'Promotions, Discounts & More - Caltex Hong Kong | Caltex Hong Kong', 'description': 'Star Mart Monthly Offer. Look out for these February deals at Star Mart when you drop by any Caltex station. ... Fuel up with these credit cards or your Caltex JoyFuel Card to enjoy a fuel discount of HK$0.9/litre.'}, {'keyword': 'Caltax Hong Kong', 'rank': 4, 'title': 'Caltex HK - 5 Star Techron Fuel, Clean & Glide Tech | Caltex Hong Kong', 'description': \"Caltex Hong Kong's 5 Star Fuels & Services ranging from Techron Fuels with Clean & Glide Technology to Lubricants, Service Stations & Caltex Cards.\"}, {'keyword': 'Caltax Hong Kong', 'rank': 5, 'title': 'Contact Us | Caltex Hong Kong', 'description': 'Other Contacts. Chevron Companies (Greater China) Limited Unit 1501, 15/F, Tower B, Manulife Financial Centre, 223-231 Wai Yip Street Kwun Tong, Kowloon +852 2802 8338. Contact Chevron Data Protection Officer. dataprotectionofficer-hk@chevron.com · Caltex Worldwide Listing. Career opportunities. Careers at\\xa0...'}]\n"
     ]
    }
   ],
   "source": [
    "print(Caltex_HK)"
   ]
  },
  {
   "cell_type": "code",
   "execution_count": 6,
   "metadata": {
    "collapsed": true
   },
   "outputs": [],
   "source": [
    "my_dict =[{'search_name': 'Pacific Place', 'arr_name':\"Pacific_Place\"}, \n",
    "          {'search_name':\"Lee Garden\",'arr_name':'Lei_Garden'},\n",
    "           {'search_name':\"SamSung\",'arr_name':'SamSung'},\n",
    "           {'search_name':\"Broadway HK\",'arr_name':'Broadway HK'},\n",
    "           {'search_name':\"Fortress HK\",'arr_name':'Fortress'},\n",
    "           {'search_name':\"Genki Hong Kong\",'arr_name':'Genki_HK'},\n",
    "          {'search_name':\"Caltax Hong Kong\",'arr_name':'Caltex_HK'},\n",
    "          {'search_name':\"Shell Hong Kong\",'arr_name':'Shell_HK'},\n",
    "          {'search_name':\"Samsonite\",'arr_name':'Samsonite'},\n",
    "          {'search_name':\"Island Shangrila\",'arr_name':'Shangrila'},\n",
    "          {'search_name':\"Marriot\",'arr_name':'Marriot'},\n",
    "         ]\n",
    "\n",
    "for l in my_dict:\n",
    "    #print(l['search_name'], l['arr_name'])\n",
    "    l['arr_name'] = scrape_google(l['search_name'],5,\"en\")"
   ]
  },
  {
   "cell_type": "code",
   "execution_count": 7,
   "metadata": {
    "collapsed": true
   },
   "outputs": [],
   "source": [
    "my_dict =[{'search_name': 'Pacific Coffee', 'arr_name':\"Pacific_coffee\"}, \n",
    "          {'search_name':\"Starbuck\",'arr_name':'Starbuck'},\n",
    "           {'search_name':\"Simply Life HK\",'arr_name':'Simply_life'},\n",
    "           {'search_name':\"Fairwood HK\",'arr_name':'fairwood'},\n",
    "           {'search_name':\"MX HK\",'arr_name':'MX_HK'},\n",
    "           {'search_name':\"Shushi Hiro\",'arr_name':'Shushi_Hiro'},\n",
    "          {'search_name':\"Mandarin Oriental\",'arr_name':'MO_HK'},\n",
    "          {'search_name':\"Conard\",'arr_name':'Conrad_HK'},\n",
    "          {'search_name':\"Excelsior HK\",'arr_name':'Excelsior'},\n",
    "          {'search_name':\"Parklane hotel\",'arr_name':'Parklane HK'},\n",
    "          {'search_name':\"Shushi Senro\",'arr_name':'Shushi_senro'},\n",
    "         ]\n",
    "\n",
    "for l in my_dict:\n",
    "    #print(l['search_name'], l['arr_name'])\n",
    "    l['arr_name'] = scrape_google(l['search_name'],5,\"en\")"
   ]
  },
  {
   "cell_type": "markdown",
   "metadata": {},
   "source": [
    "### import the exported text description"
   ]
  },
  {
   "cell_type": "code",
   "execution_count": 1,
   "metadata": {
    "collapsed": true
   },
   "outputs": [],
   "source": [
    "import glob\n",
    "files = glob.glob(\"cc_desc/*.txt\")\n",
    "t = []\n",
    "\n",
    "# iterate over the list getting each file \n",
    "for fle in files:\n",
    "   # open the file and then call .read() to get the text \n",
    "    with open(fle) as f: \n",
    "        t.append(f.read())\n",
    "        \n",
    "    "
   ]
  },
  {
   "cell_type": "code",
   "execution_count": 13,
   "metadata": {
    "scrolled": false
   },
   "outputs": [
    {
     "name": "stdout",
     "output_type": "stream",
     "text": [
      "['\"Find Cafe De Coral, Food & Dining places in Hong Kong at OpenRice Hong Kong.\"\"大家樂Café de Coral\\'s Address, Telephone Number, Ratings, Reviews, Photos and Menu, located at Shop40-50, 2/F, Sun Tuen Mun Shopping Centre, 55-65 Lung Mun Road Tuen Mun.\"\"大家樂Café de Coral\\'s Address, Telephone Number, Ratings, Reviews, Photos and Menu, located at UG-1/F, Chinachem Tower, 34-37 Connaught Road Central.\"\"大家樂Café de Coral\\'s Address, Telephone Number, Ratings, Reviews, Photos and Menu, located at B/F, Argyle Centre Phase 1, 688 Nathan Road Mong Kok.\"\"大家樂Café de Coral\\'s Address, Telephone Number, Ratings, Reviews, Photos and Menu, located at Shop 23, L2, Festival Walk, 80 Tat Chee Avenue Kowloon Tong. 大家樂由早到晚均提供豐富美食選擇，價格相宜，糯米雞、一哥焗豬扒飯與香滑奶茶是必食之選。\"', '\"Our luxury 5-star Island Shangri-La, Hong Kong provides comfortably appointed rooms, suites and restaurants as well as excellent amenities.\"\"Located in Hong Kong, 14 miles from Ngong Ping 360 Cable Car, Island Shangri-La Hong Kong features a restaurant and free WiFi.\"', '\"The Park Lane Hong Kong a Pullman Hotel is an upscale hotel in Hong Kong. Conveniently located in the city centre, Causeway Bay.\"\"Experience exceptional dining at The Park Lane Hong Kong, a Pullman Hotel. Enjoy the extravagant cuisine of our restaurant against the backdrop of Hong Kong\\'s amazing Victoria Harbour and Park view with the great ambience.\"\"Doing business in the modern age requires versatility and ultra-connectedness, and The Park Lane offers both in abundance. Whether for private meetings, board summits or large conferences, the hotel has options and facilities to suit your needs and budget, and to create the right environment to make a lasting impression.\"\"Find here the contact details for The Park Lane hotel in Hong Kong. Click here to complete the form for more information.\"\"Located in Hong Kong, 16 miles from Ngong Ping 360 Cable Car, The Park Lane Hong Kong, a Pullman Hotel features a restaurant, bar and free WiFi throughout...\"']\n"
     ]
    }
   ],
   "source": [
    "print(t[:3])"
   ]
  },
  {
   "cell_type": "markdown",
   "metadata": {},
   "source": [
    "### remove chinese words"
   ]
  },
  {
   "cell_type": "code",
   "execution_count": 14,
   "metadata": {},
   "outputs": [
    {
     "name": "stdout",
     "output_type": "stream",
     "text": [
      "b'\"Find Cafe De Coral, Food & Dining places in Hon\n"
     ]
    }
   ],
   "source": [
    "import re\n",
    "def rm_chinese(in_text):\n",
    "    b = in_text.encode('utf8')\n",
    "    c = str(re.sub(rb'[^\\x00-\\x7f]',rb'',b))\n",
    "    return c\n",
    "\n",
    "f = ' '.join([rm_chinese(s) for s in t])\n",
    "#t_noChin = rm_chinese(str(t))\n",
    "\n",
    "print(f[:50])"
   ]
  },
  {
   "cell_type": "code",
   "execution_count": 4,
   "metadata": {
    "collapsed": true
   },
   "outputs": [],
   "source": [
    "import nltk\n",
    "\n",
    "from nltk.tokenize import RegexpTokenizer\n",
    "from stop_words import get_stop_words\n",
    "from nltk.stem.porter import PorterStemmer\n",
    "from gensim import corpora, models\n",
    "import gensim\n",
    "import re"
   ]
  },
  {
   "cell_type": "code",
   "execution_count": 5,
   "metadata": {},
   "outputs": [],
   "source": [
    "from nltk.corpus import stopwords \n",
    "from nltk.stem.wordnet import WordNetLemmatizer\n",
    "import string\n",
    "stop = set(stopwords.words('english'))\n",
    "exclude = set(string.punctuation) \n",
    "lemma = WordNetLemmatizer()\n",
    "unwant_words = ['hong','kong','our','']\n",
    "\n",
    "def rm_chinese(in_text):\n",
    "    b = in_text.encode('utf8')\n",
    "    c = str(re.sub(rb'[^\\x00-\\x7f]',rb'',b))\n",
    "    return c\n",
    "\n",
    "def clean(doc):\n",
    "    stop_free = \" \".join([i for i in doc.lower().split() if i not in stop])\n",
    "    rm_ch = ' '.join([i for i in rm_chinese(stop_free).split()])\n",
    "    stop_free = rm_ch\n",
    "    ex_unwant = \" \".join([i for i in stop_free.lower().split() if i not in unwant_words])\n",
    "    punc_free = ''.join(ch for ch in ex_unwant if ch not in exclude)\n",
    "    normalized = \" \".join(lemma.lemmatize(word) for word in punc_free.split())\n",
    "    \n",
    "    return normalized\n",
    "\n",
    "doc_clean = [clean(doc).split() for doc in t]\n",
    "\n"
   ]
  },
  {
   "cell_type": "code",
   "execution_count": 6,
   "metadata": {},
   "outputs": [
    {
     "name": "stdout",
     "output_type": "stream",
     "text": [
      "<class 'list'>\n",
      "[['bfind', 'cafe', 'de', 'coral', 'food', 'dining', 'place', 'openrice', 'kongcaf', 'de', 'coral', 'address', 'telephone', 'number', 'rating', 'review', 'photo', 'menu', 'located', 'shop4050', '2f', 'sun', 'tuen', 'mun', 'shopping', 'centre', '5565', 'lung', 'mun', 'road', 'tuen', 'muncaf', 'de', 'coral', 'address', 'telephone', 'number', 'rating', 'review', 'photo', 'menu', 'located', 'ug1f', 'chinachem', 'tower', '3437', 'connaught', 'road', 'centralcaf', 'de', 'coral', 'address', 'telephone', 'number', 'rating', 'review', 'photo', 'menu', 'located', 'bf', 'argyle', 'centre', 'phase', '1', '688', 'nathan', 'road', 'mong', 'kokcaf', 'de', 'coral', 'address', 'telephone', 'number', 'rating', 'review', 'photo', 'menu', 'located', 'shop', '23', 'l2', 'festival', 'walk', '80', 'tat', 'chee', 'avenue', 'kowloon', 'tong'], ['bour', 'luxury', '5star', 'island', 'shangrila', 'provides', 'comfortably', 'appointed', 'room', 'suite', 'restaurant', 'well', 'excellent', 'amenitieslocated', 'kong', '14', 'mile', 'ngong', 'ping', '360', 'cable', 'car', 'island', 'shangrila', 'feature', 'restaurant', 'free', 'wifi'], ['bthe', 'park', 'lane', 'pullman', 'hotel', 'upscale', 'hotel', 'kong', 'conveniently', 'located', 'city', 'centre', 'causeway', 'bayexperience', 'exceptional', 'dining', 'park', 'lane', 'kong', 'pullman', 'hotel', 'enjoy', 'extravagant', 'cuisine', 'restaurant', 'backdrop', 'kongs', 'amazing', 'victoria', 'harbour', 'park', 'view', 'great', 'ambiencedoing', 'business', 'modern', 'age', 'requires', 'versatility', 'ultraconnectedness', 'park', 'lane', 'offer', 'abundance', 'whether', 'private', 'meeting', 'board', 'summit', 'large', 'conference', 'hotel', 'option', 'facility', 'suit', 'need', 'budget', 'create', 'right', 'environment', 'make', 'lasting', 'impressionfind', 'contact', 'detail', 'park', 'lane', 'hotel', 'kong', 'click', 'complete', 'form', 'informationlocated', 'kong', '16', 'mile', 'ngong', 'ping', '360', 'cable', 'car', 'park', 'lane', 'kong', 'pullman', 'hotel', 'feature', 'restaurant', 'bar', 'free', 'wifi', 'throughout']]\n"
     ]
    }
   ],
   "source": [
    "print(type(doc_clean))\n",
    "print(doc_clean[:3])"
   ]
  },
  {
   "cell_type": "code",
   "execution_count": 7,
   "metadata": {
    "collapsed": true
   },
   "outputs": [],
   "source": [
    "import gensim\n",
    "from gensim import corpora\n",
    "\n",
    "# Creating the term dictionary of our courpus, where every unique term is assigned an index. \n",
    "\n",
    "dictionary = corpora.Dictionary(doc_clean)\n",
    "\n",
    "# Converting list of documents (corpus) into Document Term Matrix using dictionary prepared above.\n",
    "doc_term_matrix = [dictionary.doc2bow(doc) for doc in doc_clean]"
   ]
  },
  {
   "cell_type": "code",
   "execution_count": 25,
   "metadata": {},
   "outputs": [
    {
     "name": "stdout",
     "output_type": "stream",
     "text": [
      "[[(0, 1), (1, 1), (2, 5), (3, 5), (4, 1), (5, 1), (6, 1), (7, 1), (8, 1), (9, 4), (10, 4), (11, 4), (12, 4), (13, 4), (14, 4), (15, 4), (16, 4), (17, 1), (18, 1), (19, 1), (20, 2), (21, 2), (22, 1), (23, 2), (24, 1), (25, 1), (26, 3), (27, 1), (28, 1), (29, 1), (30, 1), (31, 1), (32, 1), (33, 1), (34, 1), (35, 1), (36, 1), (37, 1), (38, 1), (39, 1), (40, 1), (41, 1), (42, 1), (43, 1), (44, 1), (45, 1), (46, 1), (47, 1), (48, 1), (49, 1), (50, 1), (51, 1), (52, 1)], [(53, 1), (54, 1), (55, 1), (56, 2), (57, 2), (58, 1), (59, 1), (60, 1), (61, 1), (62, 1), (63, 2), (64, 1), (65, 1), (66, 1), (67, 1), (68, 1), (69, 1), (70, 1), (71, 1), (72, 1), (73, 1), (74, 1), (75, 1), (76, 1), (77, 1)], [(5, 1), (16, 1), (23, 1), (63, 2), (67, 5), (69, 1), (70, 1), (71, 1), (72, 1), (73, 1), (74, 1), (75, 1), (76, 1), (77, 1), (78, 1), (79, 6), (80, 5), (81, 3), (82, 6), (83, 1), (84, 1), (85, 1), (86, 1), (87, 1), (88, 1), (89, 1), (90, 1), (91, 1), (92, 1), (93, 1), (94, 1), (95, 1), (96, 1), (97, 1), (98, 1), (99, 1), (100, 1), (101, 1), (102, 1), (103, 1), (104, 1), (105, 1), (106, 1), (107, 1), (108, 1), (109, 1), (110, 1), (111, 1), (112, 1), (113, 1), (114, 1), (115, 1), (116, 1), (117, 1), (118, 1), (119, 1), (120, 1), (121, 1), (122, 1), (123, 1), (124, 1), (125, 1), (126, 1), (127, 1), (128, 1), (129, 1), (130, 1), (131, 1), (132, 1), (133, 1), (134, 1)], [(135, 1), (136, 1), (137, 1), (138, 1), (139, 1), (140, 2), (141, 1), (142, 1), (143, 1), (144, 1), (145, 1), (146, 1), (147, 1), (148, 1), (149, 1)], [(1, 2), (2, 5), (3, 5), (4, 3), (5, 1), (13, 1), (63, 4), (67, 2), (93, 1), (98, 1), (150, 1), (151, 4), (152, 1), (153, 2), (154, 1), (155, 1), (156, 2), (157, 1), (158, 1), (159, 1), (160, 1), (161, 1), (162, 1), (163, 2), (164, 1), (165, 1), (166, 1), (167, 1), (168, 1), (169, 1), (170, 2), (171, 1), (172, 1), (173, 1), (174, 1), (175, 1), (176, 1), (177, 1), (178, 1), (179, 1), (180, 1), (181, 1), (182, 1), (183, 1), (184, 1), (185, 1), (186, 1), (187, 1), (188, 1), (189, 1), (190, 2), (191, 1), (192, 1), (193, 1), (194, 1), (195, 2), (196, 1), (197, 2), (198, 1), (199, 1), (200, 1), (201, 1), (202, 1), (203, 1), (204, 1), (205, 1), (206, 1), (207, 1), (208, 1), (209, 1), (210, 1), (211, 1), (212, 1), (213, 1), (214, 1), (215, 1), (216, 1), (217, 1), (218, 2), (219, 2), (220, 1), (221, 1), (222, 1), (223, 1), (224, 1), (225, 1), (226, 1), (227, 1), (228, 1), (229, 1)], [(16, 1), (26, 1), (46, 1), (56, 1), (61, 1), (63, 1), (65, 1), (67, 2), (82, 5), (86, 5), (95, 1), (96, 2), (97, 1), (106, 1), (116, 1), (120, 1), (151, 3), (156, 1), (163, 1), (215, 1), (216, 1), (230, 1), (231, 1), (232, 3), (233, 1), (234, 2), (235, 1), (236, 4), (237, 1), (238, 1), (239, 1), (240, 1), (241, 1), (242, 1), (243, 1), (244, 1), (245, 1), (246, 1), (247, 1), (248, 1), (249, 1), (250, 1), (251, 1), (252, 1), (253, 1), (254, 1), (255, 1), (256, 1), (257, 1), (258, 1), (259, 1), (260, 1), (261, 1), (262, 1), (263, 1), (264, 1), (265, 1), (266, 1), (267, 1), (268, 1), (269, 2), (270, 2), (271, 1), (272, 1), (273, 1), (274, 1), (275, 1), (276, 1)], [(1, 1), (4, 2), (5, 2), (6, 1), (7, 1), (64, 1), (106, 1), (111, 1), (114, 1), (140, 1), (147, 3), (163, 1), (173, 1), (176, 1), (197, 1), (202, 3), (239, 1), (241, 1), (274, 1), (277, 1), (278, 1), (279, 2), (280, 1), (281, 1), (282, 1), (283, 1), (284, 1), (285, 1), (286, 1), (287, 1), (288, 1), (289, 1), (290, 1), (291, 1), (292, 1), (293, 1), (294, 1), (295, 1), (296, 1), (297, 1), (298, 1), (299, 1), (300, 1), (301, 1), (302, 1), (303, 2), (304, 4), (305, 1), (306, 1), (307, 1), (308, 1), (309, 1), (310, 1), (311, 1), (312, 1), (313, 2), (314, 1), (315, 1), (316, 1), (317, 1), (318, 1), (319, 1), (320, 1), (321, 1), (322, 1), (323, 1), (324, 1), (325, 2), (326, 1), (327, 1), (328, 1), (329, 1), (330, 1), (331, 1), (332, 1), (333, 1), (334, 1), (335, 4), (336, 1), (337, 12), (338, 2), (339, 2), (340, 1), (341, 1), (342, 1), (343, 1), (344, 1), (345, 1), (346, 1), (347, 1), (348, 1), (349, 1), (350, 1), (351, 1), (352, 1), (353, 1), (354, 1), (355, 1), (356, 1), (357, 2), (358, 2), (359, 2), (360, 2), (361, 1), (362, 1), (363, 1), (364, 6), (365, 1), (366, 1), (367, 1), (368, 1), (369, 1), (370, 1), (371, 1), (372, 1), (373, 3), (374, 1), (375, 1), (376, 2), (377, 1), (378, 1), (379, 2), (380, 1), (381, 1), (382, 1), (383, 1), (384, 1), (385, 1), (386, 1), (387, 1), (388, 1)], [(5, 2), (6, 5), (22, 2), (42, 1), (63, 2), (67, 1), (82, 1), (91, 1), (93, 1), (101, 1), (106, 1), (122, 1), (188, 1), (190, 1), (201, 2), (206, 1), (214, 1), (237, 1), (250, 1), (251, 1), (321, 1), (389, 1), (390, 1), (391, 1), (392, 1), (393, 1), (394, 1), (395, 1), (396, 1), (397, 1), (398, 1), (399, 2), (400, 1), (401, 1), (402, 1), (403, 1), (404, 1), (405, 1), (406, 1), (407, 2), (408, 1), (409, 1), (410, 3), (411, 1), (412, 1), (413, 1), (414, 1), (415, 1), (416, 1), (417, 1), (418, 1), (419, 1), (420, 1), (421, 1), (422, 1), (423, 1), (424, 1), (425, 1), (426, 1), (427, 1), (428, 1)], [(64, 1), (106, 1), (140, 1), (148, 1), (163, 2), (321, 3), (405, 1), (429, 1), (430, 1), (431, 1), (432, 1), (433, 2), (434, 1), (435, 1), (436, 1), (437, 1), (438, 1), (439, 1), (440, 1), (441, 1), (442, 1), (443, 1), (444, 1), (445, 3), (446, 2), (447, 1)], [(4, 1), (22, 1), (47, 1), (67, 1), (89, 2), (128, 1), (134, 1), (149, 1), (202, 5), (215, 1), (292, 1), (321, 1), (407, 4), (444, 2), (448, 1), (449, 1), (450, 2), (451, 1), (452, 1), (453, 1), (454, 1), (455, 1), (456, 1), (457, 1), (458, 1), (459, 1), (460, 1), (461, 1), (462, 1), (463, 1), (464, 1), (465, 1), (466, 1), (467, 2), (468, 2), (469, 1), (470, 1), (471, 1), (472, 1), (473, 1), (474, 1), (475, 1), (476, 1), (477, 1), (478, 1), (479, 1), (480, 1), (481, 1), (482, 1), (483, 1), (484, 1), (485, 1), (486, 1), (487, 1), (488, 1)], [(9, 1), (10, 1), (11, 1), (12, 1), (13, 2), (14, 1), (15, 1), (16, 1), (37, 2), (42, 2), (56, 1), (63, 4), (67, 1), (100, 1), (184, 1), (215, 1), (216, 1), (219, 1), (220, 1), (222, 1), (223, 1), (225, 1), (226, 1), (227, 1), (229, 1), (306, 1), (489, 1), (490, 4), (491, 3), (492, 1), (493, 2), (494, 2), (495, 2), (496, 1), (497, 1), (498, 1), (499, 1), (500, 1), (501, 1), (502, 3), (503, 4), (504, 1), (505, 1), (506, 1), (507, 1), (508, 1), (509, 1), (510, 1), (511, 1), (512, 1), (513, 1), (514, 1), (515, 1), (516, 1)], [(1, 1), (5, 2), (6, 1), (16, 1), (22, 4), (42, 1), (54, 1), (63, 1), (86, 3), (97, 2), (100, 1), (115, 2), (116, 1), (205, 1), (207, 1), (209, 1), (236, 3), (250, 2), (323, 1), (392, 2), (403, 2), (405, 1), (485, 1), (500, 1), (517, 1), (518, 7), (519, 1), (520, 1), (521, 1), (522, 1), (523, 1), (524, 7), (525, 2), (526, 1), (527, 1), (528, 2), (529, 1), (530, 1), (531, 1), (532, 1), (533, 1), (534, 1), (535, 1), (536, 1), (537, 1), (538, 1), (539, 1), (540, 1), (541, 1), (542, 1), (543, 1)], [(2, 2), (4, 1), (9, 1), (10, 1), (11, 1), (12, 1), (13, 1), (14, 1), (15, 1), (16, 1), (18, 1), (23, 4), (26, 2), (37, 1), (42, 4), (45, 1), (89, 1), (140, 1), (216, 1), (219, 2), (248, 1), (250, 1), (332, 1), (378, 1), (515, 1), (544, 1), (545, 2), (546, 2), (547, 1), (548, 1), (549, 1), (550, 1), (551, 2), (552, 1), (553, 1), (554, 1), (555, 1), (556, 1), (557, 1), (558, 2), (559, 1), (560, 1), (561, 1), (562, 4), (563, 1), (564, 2), (565, 1), (566, 1), (567, 1), (568, 1), (569, 1), (570, 1), (571, 1), (572, 1), (573, 2), (574, 2), (575, 1), (576, 1), (577, 1), (578, 2), (579, 1), (580, 2), (581, 1), (582, 1), (583, 1), (584, 1), (585, 1), (586, 1), (587, 2), (588, 2), (589, 1), (590, 1), (591, 1), (592, 1), (593, 1), (594, 1), (595, 1), (596, 1), (597, 1), (598, 1), (599, 1)], [(37, 1), (76, 1), (111, 1), (220, 2), (238, 2), (250, 1), (327, 2), (424, 1), (560, 1), (581, 1), (600, 1), (601, 1), (602, 1), (603, 1), (604, 1), (605, 1), (606, 1), (607, 1), (608, 1), (609, 1), (610, 1), (611, 1), (612, 1), (613, 1), (614, 1), (615, 1), (616, 1), (617, 1), (618, 1), (619, 3), (620, 1), (621, 1), (622, 1), (623, 3), (624, 1), (625, 1), (626, 1), (627, 1), (628, 1), (629, 2), (630, 1), (631, 1), (632, 2), (633, 7), (634, 3), (635, 1), (636, 1), (637, 1), (638, 1), (639, 1), (640, 1), (641, 1), (642, 1), (643, 1), (644, 1), (645, 1), (646, 1), (647, 1), (648, 1), (649, 1), (650, 3), (651, 1), (652, 3), (653, 1), (654, 1), (655, 1), (656, 1), (657, 1), (658, 4), (659, 1), (660, 1), (661, 1), (662, 1), (663, 1), (664, 1), (665, 1), (666, 1), (667, 2), (668, 2), (669, 1), (670, 1), (671, 1), (672, 1), (673, 1), (674, 1), (675, 1), (676, 1), (677, 1), (678, 1)], [(9, 1), (10, 1), (11, 1), (12, 1), (13, 2), (14, 1), (15, 2), (16, 1), (26, 1), (42, 1), (61, 1), (63, 3), (67, 2), (71, 1), (86, 1), (101, 1), (132, 1), (151, 1), (192, 3), (197, 1), (215, 1), (216, 1), (220, 1), (222, 1), (223, 1), (224, 1), (225, 1), (226, 1), (227, 1), (231, 1), (236, 1), (315, 2), (322, 2), (325, 2), (364, 4), (395, 1), (398, 1), (428, 1), (451, 1), (502, 2), (516, 1), (525, 1), (629, 2), (638, 2), (679, 1), (680, 7), (681, 6), (682, 2), (683, 2), (684, 1), (685, 1), (686, 1), (687, 1), (688, 1), (689, 1), (690, 1), (691, 1), (692, 1), (693, 1), (694, 3), (695, 2), (696, 1), (697, 1), (698, 1), (699, 1), (700, 1), (701, 1), (702, 1), (703, 4), (704, 5), (705, 2), (706, 1), (707, 1), (708, 2), (709, 1), (710, 1), (711, 1), (712, 1), (713, 1), (714, 1), (715, 1), (716, 1), (717, 2), (718, 1), (719, 1), (720, 1), (721, 1), (722, 1), (723, 1), (724, 1), (725, 1), (726, 1), (727, 1), (728, 1), (729, 1), (730, 1), (731, 1), (732, 1), (733, 1), (734, 1), (735, 1), (736, 1), (737, 1), (738, 1), (739, 1), (740, 1), (741, 1), (742, 1), (743, 1), (744, 1), (745, 1)], [(37, 1), (43, 1), (54, 2), (82, 4), (85, 1), (116, 1), (151, 3), (163, 1), (235, 1), (246, 1), (247, 1), (262, 1), (269, 1), (270, 2), (271, 1), (272, 1), (273, 1), (490, 1), (515, 1), (531, 1), (656, 1), (657, 1), (708, 1), (746, 1), (747, 1), (748, 1), (749, 1), (750, 1), (751, 1), (752, 1), (753, 1), (754, 1), (755, 1), (756, 1), (757, 1), (758, 1), (759, 1), (760, 1), (761, 1), (762, 1), (763, 1), (764, 1), (765, 1), (766, 1), (767, 1), (768, 1), (769, 1), (770, 1), (771, 1), (772, 1), (773, 1)], [(6, 1), (13, 4), (14, 1), (15, 3), (97, 1), (98, 1), (115, 1), (121, 2), (183, 1), (186, 1), (195, 2), (200, 1), (220, 1), (226, 1), (235, 1), (236, 1), (250, 1), (315, 1), (437, 1), (438, 1), (443, 1), (444, 2), (522, 1), (525, 1), (531, 1), (551, 2), (629, 1), (657, 1), (674, 1), (680, 9), (690, 1), (701, 1), (774, 1), (775, 5), (776, 2), (777, 2), (778, 1), (779, 6), (780, 1), (781, 2), (782, 1), (783, 1), (784, 5), (785, 1), (786, 1), (787, 1), (788, 1), (789, 1), (790, 1), (791, 1), (792, 1), (793, 1), (794, 1), (795, 1), (796, 1), (797, 1), (798, 1), (799, 1), (800, 1), (801, 2), (802, 1), (803, 1), (804, 1), (805, 1), (806, 1), (807, 1), (808, 1), (809, 1), (810, 1), (811, 1), (812, 1), (813, 1), (814, 1), (815, 1), (816, 1), (817, 1), (818, 1), (819, 1), (820, 1), (821, 1), (822, 1), (823, 1), (824, 1), (825, 1), (826, 1), (827, 1), (828, 1), (829, 1), (830, 1), (831, 1), (832, 1), (833, 1), (834, 1), (835, 1), (836, 1), (837, 1), (838, 1), (839, 1)], [(54, 1), (61, 1), (67, 1), (69, 1), (82, 5), (85, 1), (137, 1), (199, 1), (235, 1), (271, 3), (302, 1), (465, 1), (467, 1), (603, 1), (840, 1), (841, 6), (842, 2), (843, 1), (844, 4), (845, 1), (846, 1), (847, 2), (848, 1), (849, 3), (850, 1), (851, 1), (852, 1), (853, 1), (854, 1), (855, 1), (856, 1), (857, 2), (858, 1), (859, 1), (860, 2), (861, 1), (862, 1), (863, 1), (864, 1), (865, 1), (866, 1), (867, 1), (868, 1), (869, 1), (870, 1), (871, 1), (872, 1), (873, 1), (874, 1), (875, 1), (876, 1), (877, 1)], [(9, 1), (126, 1), (144, 1), (192, 1), (200, 2), (327, 1), (442, 1), (543, 1), (644, 1), (687, 1), (757, 1), (841, 2), (852, 1), (876, 1), (878, 1), (879, 1), (880, 1), (881, 1), (882, 1), (883, 1), (884, 1), (885, 1), (886, 1), (887, 1), (888, 1), (889, 1), (890, 1), (891, 3), (892, 1), (893, 1), (894, 1), (895, 1), (896, 1), (897, 1), (898, 1), (899, 1), (900, 1), (901, 1), (902, 1), (903, 1), (904, 1)], [(4, 1), (157, 1), (905, 1), (906, 2), (907, 2), (908, 2), (909, 1), (910, 1), (911, 1)], [(2, 1), (9, 4), (10, 4), (11, 4), (12, 4), (13, 4), (14, 4), (15, 5), (16, 5), (26, 2), (42, 1), (63, 5), (215, 3), (216, 3), (219, 2), (262, 1), (502, 4), (503, 5), (512, 2), (513, 2), (514, 2), (515, 3), (516, 3), (578, 2), (580, 1), (682, 1), (683, 1), (912, 1), (913, 1), (914, 1), (915, 1), (916, 1), (917, 1), (918, 2), (919, 3), (920, 1), (921, 1), (922, 1)], [(23, 1), (30, 1), (51, 1), (52, 1), (75, 1), (93, 1), (106, 3), (123, 1), (126, 2), (143, 1), (163, 3), (200, 1), (203, 3), (219, 1), (225, 1), (260, 2), (292, 1), (321, 1), (417, 1), (418, 1), (442, 1), (469, 1), (484, 1), (487, 1), (543, 1), (574, 1), (596, 1), (644, 2), (648, 1), (740, 1), (862, 1), (886, 1), (894, 1), (911, 1), (923, 1), (924, 1), (925, 5), (926, 1), (927, 1), (928, 1), (929, 1), (930, 1), (931, 1), (932, 1), (933, 1), (934, 1), (935, 1), (936, 2), (937, 1), (938, 1), (939, 1), (940, 1), (941, 1), (942, 1), (943, 1), (944, 1), (945, 1), (946, 1), (947, 1), (948, 1), (949, 2), (950, 1), (951, 1), (952, 1), (953, 1), (954, 1), (955, 1), (956, 1), (957, 1), (958, 1), (959, 1), (960, 1), (961, 1), (962, 1), (963, 1), (964, 1), (965, 1), (966, 1), (967, 2), (968, 1)], [(9, 1), (51, 1), (56, 1), (67, 1), (75, 1), (153, 1), (184, 1), (219, 1), (235, 1), (410, 3), (417, 1), (418, 1), (419, 1), (421, 1), (422, 1), (423, 1), (497, 1), (518, 1), (548, 1), (551, 1), (635, 1), (701, 1), (708, 1), (796, 1), (969, 1), (970, 1), (971, 1), (972, 2), (973, 1), (974, 1), (975, 1), (976, 1), (977, 1), (978, 1), (979, 1), (980, 1), (981, 1)], [(5, 1), (67, 1), (153, 1), (163, 1), (165, 1), (188, 1), (680, 3), (697, 1), (877, 1), (982, 1), (983, 1), (984, 2), (985, 1), (986, 1), (987, 1), (988, 1), (989, 1), (990, 1), (991, 1), (992, 1)], [(76, 3), (100, 2), (113, 1), (155, 1), (157, 1), (302, 1), (321, 1), (394, 1), (439, 1), (444, 1), (451, 1), (460, 2), (490, 1), (644, 1), (646, 1), (845, 1), (849, 4), (937, 1), (993, 1), (994, 5), (995, 4), (996, 4), (997, 4), (998, 2), (999, 1), (1000, 6), (1001, 2), (1002, 1), (1003, 1), (1004, 1), (1005, 1), (1006, 2), (1007, 2), (1008, 1), (1009, 1), (1010, 1), (1011, 1), (1012, 1), (1013, 1), (1014, 1), (1015, 1), (1016, 1), (1017, 1), (1018, 1), (1019, 1), (1020, 1), (1021, 1), (1022, 1), (1023, 1), (1024, 1), (1025, 1), (1026, 1), (1027, 1), (1028, 1), (1029, 1), (1030, 1), (1031, 1)], [(123, 1), (156, 1), (186, 3), (205, 1), (467, 1), (486, 2), (548, 1), (795, 1), (1032, 1), (1033, 2), (1034, 1), (1035, 1), (1036, 1), (1037, 1), (1038, 1), (1039, 1), (1040, 1), (1041, 1), (1042, 1)]]\n"
     ]
    }
   ],
   "source": [
    "print (doc_term_matrix)"
   ]
  },
  {
   "cell_type": "markdown",
   "metadata": {},
   "source": [
    "### Create Topic  model"
   ]
  },
  {
   "cell_type": "code",
   "execution_count": 17,
   "metadata": {
    "collapsed": true
   },
   "outputs": [],
   "source": [
    "# Creating the object for LDA model using gensim library\n",
    "Lda = gensim.models.ldamodel.LdaModel\n",
    "\n",
    "# Running and Trainign LDA model on the document term matrix.\n",
    "ldamodel = Lda(doc_term_matrix, num_topics=7, id2word = dictionary, passes=50)\n",
    "\n"
   ]
  },
  {
   "cell_type": "code",
   "execution_count": 18,
   "metadata": {},
   "outputs": [
    {
     "data": {
      "text/plain": [
       "[(0,\n",
       "  '0.018*\"x\" + 0.015*\"table\" + 0.015*\"sushi\" + 0.014*\"causeway\" + 0.012*\"bay\"'),\n",
       " (1,\n",
       "  '0.013*\"cinema\" + 0.013*\"pacific\" + 0.011*\"place\" + 0.011*\"coffee\" + 0.011*\"caltex\"'),\n",
       " (2,\n",
       "  '0.016*\"samsonite\" + 0.013*\"de\" + 0.013*\"coral\" + 0.013*\"luggage\" + 0.011*\"restaurant\"'),\n",
       " (3,\n",
       "  '0.019*\"de\" + 0.019*\"centre\" + 0.016*\"located\" + 0.013*\"address\" + 0.013*\"shop\"'),\n",
       " (4,\n",
       "  '0.017*\"product\" + 0.017*\"tradein\" + 0.012*\"service\" + 0.012*\"information\" + 0.012*\"trade\"'),\n",
       " (5,\n",
       "  '0.020*\"hotel\" + 0.017*\"sushi\" + 0.013*\"conard\" + 0.011*\"reward\" + 0.011*\"senro\"'),\n",
       " (6,\n",
       "  '0.025*\"restaurant\" + 0.025*\"wah\" + 0.019*\"tsui\" + 0.017*\"review\" + 0.017*\"located\"')]"
      ]
     },
     "execution_count": 18,
     "metadata": {},
     "output_type": "execute_result"
    }
   ],
   "source": [
    "#Show first n important word in the topics:\n",
    "ldamodel.show_topics(7,5)"
   ]
  },
  {
   "cell_type": "code",
   "execution_count": null,
   "metadata": {
    "collapsed": true,
    "scrolled": true
   },
   "outputs": [],
   "source": [
    "for i in ldamodel.print_topics(): \n",
    "    for j in i: print (j)"
   ]
  },
  {
   "cell_type": "markdown",
   "metadata": {},
   "source": [
    "### LDA visualization"
   ]
  },
  {
   "cell_type": "code",
   "execution_count": 24,
   "metadata": {
    "scrolled": false
   },
   "outputs": [
    {
     "name": "stderr",
     "output_type": "stream",
     "text": [
      "/Users/Ada/anaconda3/lib/python3.6/site-packages/pyLDAvis/_prepare.py:387: DeprecationWarning: \n",
      ".ix is deprecated. Please use\n",
      ".loc for label based indexing or\n",
      ".iloc for positional indexing\n",
      "\n",
      "See the documentation here:\n",
      "http://pandas.pydata.org/pandas-docs/stable/indexing.html#ix-indexer-is-deprecated\n",
      "  topic_term_dists = topic_term_dists.ix[topic_order]\n"
     ]
    },
    {
     "data": {
      "text/plain": [
       "PreparedData(topic_coordinates=            Freq  cluster  topics         x         y\n",
       "topic                                                \n",
       "0      26.518012        1       1 -0.060898 -0.057544\n",
       "5      20.082849        1       2  0.147184 -0.132317\n",
       "1      16.155785        1       3  0.070076  0.140879\n",
       "2      12.216288        1       4  0.025271  0.073832\n",
       "3      11.921901        1       5 -0.105305  0.009311\n",
       "6      11.302785        1       6 -0.109661 -0.044420\n",
       "4       1.802380        1       7  0.033333  0.010260, topic_info=     Category       Freq           Term      Total  loglift  logprob\n",
       "term                                                                \n",
       "503   Default   6.000000            wah   6.000000  30.0000  30.0000\n",
       "16    Default  10.000000        located  10.000000  29.0000  29.0000\n",
       "337   Default   9.000000              x   9.000000  28.0000  28.0000\n",
       "2     Default   8.000000             de   8.000000  27.0000  27.0000\n",
       "321   Default   4.000000        product   4.000000  26.0000  26.0000\n",
       "680   Default  14.000000          sushi  14.000000  25.0000  25.0000\n",
       "502   Default   6.000000           tsui   6.000000  24.0000  24.0000\n",
       "63    Default  16.000000     restaurant  16.000000  23.0000  23.0000\n",
       "3     Default   6.000000          coral   6.000000  22.0000  22.0000\n",
       "23    Default   5.000000         centre   5.000000  21.0000  21.0000\n",
       "11    Default   7.000000         number   7.000000  20.0000  20.0000\n",
       "10    Default   7.000000      telephone   7.000000  19.0000  19.0000\n",
       "12    Default   7.000000         rating   7.000000  18.0000  18.0000\n",
       "163   Default   7.000000        service   7.000000  17.0000  17.0000\n",
       "15    Default  11.000000           menu  11.000000  16.0000  16.0000\n",
       "364   Default   8.000000          table   8.000000  15.0000  15.0000\n",
       "14    Default   8.000000          photo   8.000000  14.0000  14.0000\n",
       "9     Default   8.000000        address   8.000000  13.0000  13.0000\n",
       "82    Default  15.000000          hotel  15.000000  12.0000  12.0000\n",
       "1000  Default   4.000000      samsonite   4.000000  11.0000  11.0000\n",
       "13    Default  12.000000         review  12.000000  10.0000  10.0000\n",
       "633   Default   5.000000         conard   5.000000   9.0000   9.0000\n",
       "410   Default   4.000000         cinema   4.000000   8.0000   8.0000\n",
       "407   Default   4.000000        pacific   4.000000   7.0000   7.0000\n",
       "26    Default   6.000000           road   6.000000   6.0000   6.0000\n",
       "515   Default   4.000000        central   4.000000   5.0000   5.0000\n",
       "490   Default   4.000000  international   4.000000   4.0000   4.0000\n",
       "994   Default   3.000000        luggage   3.000000   3.0000   3.0000\n",
       "42    Default   7.000000           shop   7.000000   2.0000   2.0000\n",
       "106   Default   5.000000          offer   5.000000   1.0000   1.0000\n",
       "...       ...        ...            ...        ...      ...      ...\n",
       "436    Topic7   0.223981     electronic   0.797850   2.7457  -5.0705\n",
       "447    Topic7   0.223981             in   0.797850   2.7457  -5.0705\n",
       "429    Topic7   0.223981      bofficial   0.797850   2.7457  -5.0705\n",
       "148    Topic7   0.223996      appliance   1.416129   2.1720  -5.0704\n",
       "439    Topic7   0.223982         laptop   1.416159   2.1719  -5.0705\n",
       "438    Topic7   0.223982          phone   1.524894   2.0979  -5.0705\n",
       "437    Topic7   0.223982         mobile   1.524894   2.0979  -5.0705\n",
       "443    Topic7   0.223982           deal   1.524894   2.0979  -5.0705\n",
       "321    Topic7   0.615976        product   4.625166   2.0000  -4.0588\n",
       "442    Topic7   0.223982      promotion   2.158374   1.7505  -5.0705\n",
       "64     Topic7   0.223990           well   2.188002   1.7369  -5.0704\n",
       "405    Topic7   0.223989         beauty   2.254412   1.7070  -5.0704\n",
       "140    Topic7   0.223993           home   3.424617   1.2889  -5.0704\n",
       "163    Topic7   0.419990        service   7.201430   1.1743  -4.4418\n",
       "444    Topic7   0.223982       favorite   4.230782   1.0775  -5.0705\n",
       "106    Topic7   0.223980          offer   5.798564   0.7623  -5.0705\n",
       "510    Topic7   0.027998            277   1.203161   0.2555  -7.1499\n",
       "511    Topic7   0.027998       kongtsui   1.203161   0.2555  -7.1499\n",
       "508    Topic7   0.027998            633   1.203161   0.2555  -7.1499\n",
       "509    Topic7   0.027998             35   1.203161   0.2555  -7.1499\n",
       "766    Topic7   0.027998             21   1.203161   0.2555  -7.1499\n",
       "747    Topic7   0.027998       flagship   1.203161   0.2555  -7.1499\n",
       "764    Topic7   0.027998        current   1.203161   0.2555  -7.1499\n",
       "768    Topic7   0.027998             22   1.203161   0.2555  -7.1499\n",
       "749    Topic7   0.027998         itself   1.203161   0.2555  -7.1499\n",
       "767    Topic7   0.027998        atlanta   1.203161   0.2555  -7.1499\n",
       "337    Topic7   0.027998              x   9.917723  -1.8539  -7.1499\n",
       "67     Topic7   0.027998           kong  13.317941  -2.1487  -7.1499\n",
       "82     Topic7   0.027998          hotel  15.566430  -2.3047  -7.1499\n",
       "364    Topic7   0.027998          table   8.365081  -1.6836  -7.1499\n",
       "\n",
       "[361 rows x 6 columns], token_table=      Topic      Freq        Term\n",
       "term                             \n",
       "499       6  0.831144        0306\n",
       "501       6  0.831144    06000000\n",
       "37        2  0.229332           1\n",
       "37        5  0.229332           1\n",
       "37        6  0.458664           1\n",
       "717       1  0.928285          10\n",
       "629       1  0.461291          12\n",
       "629       2  0.461291          12\n",
       "513       6  0.831342        1519\n",
       "262       1  0.387481           2\n",
       "262       6  0.387481           2\n",
       "907       1  0.928285        2015\n",
       "373       1  0.682400    20160617\n",
       "695       1  0.928285        2017\n",
       "766       6  0.831144          21\n",
       "768       6  0.831144          22\n",
       "498       6  0.831144        2261\n",
       "510       6  0.831144         277\n",
       "18        5  0.546577          2f\n",
       "509       6  0.831144          35\n",
       "72        5  0.546517         360\n",
       "24        5  0.822560        5565\n",
       "508       6  0.831144         633\n",
       "38        5  0.822560         688\n",
       "505       6  0.831144       7e180\n",
       "492       6  0.831144       8t007\n",
       "998       4  0.543925   accessory\n",
       "9         1  0.113451     address\n",
       "9         3  0.113451     address\n",
       "9         5  0.340352     address\n",
       "...     ...       ...         ...\n",
       "421       3  0.509582       touch\n",
       "445       7  0.840466     tradein\n",
       "849       2  0.380499      travel\n",
       "849       4  0.570749      travel\n",
       "502       1  0.314290        tsui\n",
       "502       6  0.628580        tsui\n",
       "20        5  0.546577        tuen\n",
       "919       6  0.831342        tung\n",
       "147       1  0.563514          tv\n",
       "147       4  0.281757          tv\n",
       "619       2  0.718646           u\n",
       "28        5  0.822560        ug1f\n",
       "423       3  0.509582  uniqueness\n",
       "97        1  0.456109        view\n",
       "97        2  0.456109        view\n",
       "580       5  0.411377       voeux\n",
       "580       6  0.411377       voeux\n",
       "503       6  0.831461         wah\n",
       "418       3  0.756814         way\n",
       "64        1  0.457038        well\n",
       "64        5  0.457038        well\n",
       "514       6  0.831342  wellington\n",
       "138       4  0.819552        wide\n",
       "77        5  0.546517        wifi\n",
       "705       1  0.928285        wood\n",
       "337       1  0.907466           x\n",
       "186       2  0.263008        year\n",
       "186       4  0.789025        year\n",
       "574       3  0.398433         yip\n",
       "574       5  0.398433         yip\n",
       "\n",
       "[427 rows x 3 columns], R=30, lambda_step=0.01, plot_opts={'xlab': 'PC1', 'ylab': 'PC2'}, topic_order=[1, 6, 2, 3, 4, 7, 5])"
      ]
     },
     "execution_count": 24,
     "metadata": {},
     "output_type": "execute_result"
    }
   ],
   "source": [
    "import numpy as np\n",
    "import pandas as pd\n",
    "import pyLDAvis\n",
    "import pyLDAvis.gensim\n",
    "# ======= theta = Doc * Topic=======\n",
    "\n",
    "lda_corpus2=ldamodel.get_document_topics(bow=doc_term_matrix,minimum_probability=0)\n",
    "\n",
    "doc_topic_relation=[doc_topic_r for  doc_topic_r in lda_corpus2 ]\n",
    "\n",
    " \n",
    "\n",
    "ls_transcripts=doc_clean\n",
    "\n",
    "topic_N = 7\n",
    "\n",
    " \n",
    "\n",
    "theta = np.zeros([len(ls_transcripts),topic_N])\n",
    "\n",
    " \n",
    "\n",
    "for doc_index,doc in enumerate(doc_topic_relation):\n",
    "\n",
    "                for rel in doc:\n",
    "\n",
    "                                # print(rel)\n",
    "\n",
    "                                theta[doc_index,rel[0]]=rel[1]\n",
    "\n",
    "                                # print(rel[1])\n",
    "\n",
    "df_theta = pd.DataFrame(theta)\n",
    "\n",
    "#df_theta.to_csv(csvfile_theta, index=False, header=False)\n",
    "\n",
    " \n",
    "\n",
    " \n",
    "\n",
    "# ======= vocab : words list=======\n",
    "\n",
    " \n",
    "\n",
    "vocab=[(ldamodel.id2word[id]) for id in ldamodel.id2word]\n",
    "\n",
    "df_vocab = pd.DataFrame(vocab)\n",
    "\n",
    " \n",
    "\n",
    " \n",
    "\n",
    "# ======= phi : Topic * Words =======\n",
    "\n",
    " \n",
    "\n",
    "phi = np.zeros([topic_N,len(vocab)])\n",
    "\n",
    " \n",
    "\n",
    "for topic_i in range(topic_N):\n",
    "\n",
    "                # print(topic_i)\n",
    "\n",
    "                for topic_i_wordtopic in ldamodel.show_topic(topicid=topic_i,topn=len(vocab)):\n",
    "\n",
    "                                #print(topic_i_wordtopic[0])\n",
    "\n",
    "                                #print(vocab.index(topic_i_wordtopic[0]))\n",
    "\n",
    "                                phi[topic_i,vocab.index(topic_i_wordtopic[0])]=topic_i_wordtopic[1]\n",
    "\n",
    " \n",
    "\n",
    "df_phi = pd.DataFrame(phi,columns =vocab)\n",
    "\n",
    " \n",
    "\n",
    " \n",
    "\n",
    "# ======= term_frequency : Docs * Words =======\n",
    "\n",
    "# ======= doc_length : Words frequency in each Docs =======\n",
    "\n",
    " \n",
    "\n",
    " \n",
    "\n",
    "# term_frequency = np.zeros([len(ls_transcripts),len(vocab)])\n",
    "\n",
    "term_frequency = np.zeros(len(vocab))\n",
    "\n",
    "doc_length = np.zeros(len(ls_transcripts))\n",
    "\n",
    " \n",
    "\n",
    "for doc_index,doc in enumerate(doc_term_matrix):\n",
    "\n",
    "                for word in doc:\n",
    "\n",
    "                                # term_frequency[doc_index,word[0]] =word[1]\n",
    "\n",
    "                                term_frequency[word[0]] =word[1]+term_frequency[word[0]]\n",
    "\n",
    "                                doc_length[doc_index] =doc_length[doc_index]+word[1]\n",
    "\n",
    " \n",
    "\n",
    "df_term_frequency = pd.DataFrame(term_frequency)\n",
    "\n",
    " \n",
    "\n",
    "df_doc_length = pd.DataFrame(doc_length)\n",
    "\n",
    " \n",
    "\n",
    "pyLDAvis.prepare(phi,\n",
    "\n",
    "theta,\n",
    "\n",
    "doc_length,\n",
    "\n",
    "vocab,\n",
    "\n",
    "term_frequency,\n",
    "\n",
    "#R=30,\n",
    "\n",
    "#lambda_step=0.01,\n",
    "\n",
    "#n_jobs=-1,\n",
    "\n",
    "#plot_opts={'xlab': 'PC1', 'ylab': 'PC2'},\n",
    "\n",
    "#sort_topics=True\n",
    "\n",
    ")\n",
    "\n",
    " "
   ]
  },
  {
   "cell_type": "code",
   "execution_count": 23,
   "metadata": {
    "collapsed": true
   },
   "outputs": [],
   "source": [
    "ldamodel.save('topic.model')\n",
    "#from gensim.models import LdaModel\n",
    "#loading = LdaModel.load('topic.model')"
   ]
  },
  {
   "cell_type": "code",
   "execution_count": null,
   "metadata": {
    "collapsed": true
   },
   "outputs": [],
   "source": [
    "import pyLDAvis\n",
    "import pyLDAvis.gensim\n",
    "pyLDAvis.enable_notebook()\n",
    "pyLDAvis.gensim.prepare(ldamodel, corpus, dictionary)"
   ]
  },
  {
   "cell_type": "code",
   "execution_count": null,
   "metadata": {
    "collapsed": true
   },
   "outputs": [],
   "source": []
  }
 ],
 "metadata": {
  "kernelspec": {
   "display_name": "Python 3",
   "language": "python",
   "name": "python3"
  },
  "language_info": {
   "codemirror_mode": {
    "name": "ipython",
    "version": 3
   },
   "file_extension": ".py",
   "mimetype": "text/x-python",
   "name": "python",
   "nbconvert_exporter": "python",
   "pygments_lexer": "ipython3",
   "version": "3.6.2"
  }
 },
 "nbformat": 4,
 "nbformat_minor": 2
}
